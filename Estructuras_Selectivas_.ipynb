{
  "nbformat": 4,
  "nbformat_minor": 0,
  "metadata": {
    "colab": {
      "provenance": [],
      "authorship_tag": "ABX9TyNqvwPFZ9dRr4Q3xVIdxW7E",
      "include_colab_link": true
    },
    "kernelspec": {
      "name": "python3",
      "display_name": "Python 3"
    },
    "language_info": {
      "name": "python"
    }
  },
  "cells": [
    {
      "cell_type": "markdown",
      "metadata": {
        "id": "view-in-github",
        "colab_type": "text"
      },
      "source": [
        "<a href=\"https://colab.research.google.com/github/Stevenhs777/Estructuras-Selectivas/blob/main/Estructuras_Selectivas_.ipynb\" target=\"_parent\"><img src=\"https://colab.research.google.com/assets/colab-badge.svg\" alt=\"Open In Colab\"/></a>"
      ]
    },
    {
      "cell_type": "code",
      "execution_count": null,
      "metadata": {
        "id": "iR90uJMQg0Sy"
      },
      "outputs": [],
      "source": []
    },
    {
      "cell_type": "markdown",
      "source": [
        "# estructuras Selectivas\n",
        "## fundamento de progamacion\n",
        "### universidad pontificia bolivariana - seccional monteria\n",
        "\n",
        "**fecha:** 03 de octubre de 2025\n",
        "\n",
        "**presendo por:** steven_hernandez_Y_cristobal_quintana"
      ],
      "metadata": {
        "id": "VnjMV-7Lg1aS"
      }
    },
    {
      "cell_type": "markdown",
      "metadata": {
        "id": "ed44d1e6"
      },
      "source": [
        "```pseudocode\n",
        "INICIO\n",
        "\n",
        "    // Solicitar al usuario que ingrese un número\n",
        "    LEER numero_dia\n",
        "\n",
        "    // Verificar si el número está en el rango válido (1 a 7)\n",
        "    SI numero_dia >= 1 Y numero_dia <= 7 ENTONCES\n",
        "\n",
        "        // Asignar el día de la semana según el número\n",
        "        SI numero_dia = 1 ENTONCES\n",
        "            ESCRIBIR \"Lunes\"\n",
        "        SINO SI numero_dia = 2 ENTONCES\n",
        "            ESCRIBIR \"Martes\"\n",
        "        SINO SI numero_dia = 3 ENTONCES\n",
        "            ESCRIBIR \"Miércoles\"\n",
        "        SINO SI numero_dia = 4 ENTONCES\n",
        "            ESCRIBIR \"Jueves\"\n",
        "        SINO SI numero_dia = 5 ENTONCES\n",
        "            ESCRIBIR \"Viernes\"\n",
        "        SINO SI numero_dia = 6 ENTONCES\n",
        "            ESCRIBIR \"Sábado\"\n",
        "        SINO SI numero_dia = 7 ENTONCES\n",
        "            ESCRIBIR \"Domingo\"\n",
        "        FIN SI\n",
        "\n",
        "    SINO\n",
        "        // Mostrar mensaje de error si el número está fuera del rango\n",
        "        ESCRIBIR \"Error: El número debe estar entre 1 y 7.\"\n",
        "\n",
        "    FIN SI\n",
        "\n",
        "FIN"
      ]
    },
    {
      "cell_type": "code",
      "source": [
        "\n",
        "# Obtener entrada del usuario\n",
        "day_number_str = input(\"Por favor, ingrese un número entre 1 y 7: \")\n",
        "\n",
        "# Convierte la entrada a un número entero\n",
        "try:\n",
        "    day_number = int(day_number_str)\n",
        "\n",
        "    # Verifique si el número está dentro del rango válido\n",
        "    if 1 <= day_number <= 7:\n",
        "        # Usa un diccionario para asignar números a los días de la semana\n",
        "        days_of_week = {\n",
        "            1: \"lunes\",\n",
        "            2: \"martes\",\n",
        "            3: \"miercoles\",\n",
        "            4: \"jueves\",\n",
        "            5: \"viernes\",\n",
        "            6: \"Sabado\",\n",
        "            7: \"domingo\"\n",
        "        }\n",
        "        print(f\"El día de la semana es: {days_of_week[day_number]}\")\n",
        "    else:\n",
        "        print(\"Error: El número debe estar entre 1 y 7.\")\n",
        "\n",
        "except ValueError:\n",
        "    print(\"Error: Entrada no válida. Por favor, ingrese un número entero.\")"
      ],
      "metadata": {
        "colab": {
          "base_uri": "https://localhost:8080/"
        },
        "id": "G9L38WFHjW2x",
        "outputId": "26e6cdab-5197-4b24-da07-d186869e10b4"
      },
      "execution_count": 31,
      "outputs": [
        {
          "output_type": "stream",
          "name": "stdout",
          "text": [
            "Por favor, ingrese un número entre 1 y 7: \n",
            "Error: Entrada no válida. Por favor, ingrese un número entero.\n"
          ]
        }
      ]
    },
    {
      "cell_type": "markdown",
      "source": [],
      "metadata": {
        "id": "nbjunK2FvrPC"
      }
    },
    {
      "cell_type": "markdown",
      "metadata": {
        "id": "faff4370"
      },
      "source": [
        "```pseudocode\n",
        "INICIO\n",
        "\n",
        "    // Solicitar al usuario la distancia en metros y el tiempo en segundos\n",
        "    LEER distancia_metros\n",
        "    LEER tiempo_segundos\n",
        "\n",
        "    // Convertir distancia a kilómetros y tiempo a horas\n",
        "    distancia_km = distancia_metros / 1000\n",
        "    tiempo_horas = tiempo_segundos / 3600\n",
        "\n",
        "    // Calcular la velocidad en km/h\n",
        "    SI tiempo_horas > 0 ENTONCES\n",
        "        velocidad_kmh = distancia_km / tiempo_horas\n",
        "\n",
        "        // Evaluar la velocidad y mostrar el mensaje apropiado\n",
        "        SI velocidad_kmh > 120 ENTONCES\n",
        "            ESCRIBIR \"El vehículo va demasiado rápido.\"\n",
        "        SINO SI velocidad_kmh < 20 ENTONCES\n",
        "            ESCRIBIR \"El vehículo va demasiado lento.\"\n",
        "        SINO\n",
        "            ESCRIBIR \"La velocidad del vehículo es: \", velocidad_kmh, \" km/h\"\n",
        "        FIN SI\n",
        "    SINO\n",
        "        ESCRIBIR \"Error: El tiempo no puede ser cero.\"\n",
        "    FIN SI\n",
        "\n",
        "FIN"
      ]
    },
    {
      "cell_type": "code",
      "metadata": {
        "colab": {
          "base_uri": "https://localhost:8080/"
        },
        "id": "71d50f18",
        "outputId": "3202a60d-a840-495d-db9f-de8d8da7cdbe"
      },
      "source": [
        "# Obtener la entrada del usuario para la distancia en metros\n",
        "distance_meters_str = input(\"Por favor, introduzca la distancia recorrida en metros: \")\n",
        "\n",
        "# Obtener la entrada del usuario para el tiempo en segundos\n",
        "time_seconds_str = input(\"Por favor, introduzca el tiempo transcurrido en segundos: \")\n",
        "\n",
        "# Convertir la entrada a números decimales\n",
        "try:\n",
        "    distance_meters = float(distance_meters_str)\n",
        "    time_seconds = float(time_seconds_str)\n",
        "\n",
        "    # Convierte la distancia a kilómetros y el tiempo a horas\n",
        "    distance_km = distance_meters / 1000\n",
        "    time_hours = time_seconds / 3600\n",
        "\n",
        "    # Calcular velocidad en km/h\n",
        "    # Evitar la división por cero\n",
        "    if time_hours > 0:\n",
        "        speed_kmh = distance_km / time_hours\n",
        "\n",
        "        # Evaluar la velocidad y mostrar el mensaje\n",
        "        if speed_kmh > 120:\n",
        "            print(\"El vehículo va demasiado rápido.\")\n",
        "        elif speed_kmh < 20:\n",
        "            print(\"El vehículo va demasiado despacio.\")\n",
        "        else:\n",
        "            print(f\"La velocidad del vehículo es: {speed_kmh:.2f} km/h\")\n",
        "    else:\n",
        "        print(\"Error: El tiempo no puede ser cero.\")\n",
        "\n",
        "except ValueError:\n",
        "    print(\"Error: Entrada no válida. Por favor, introduzca valores numéricos para la distancia y el tiempo.\")"
      ],
      "execution_count": 33,
      "outputs": [
        {
          "output_type": "stream",
          "name": "stdout",
          "text": [
            "Por favor, introduzca la distancia recorrida en metros: 1\n",
            "Por favor, introduzca el tiempo transcurrido en segundos: 159\n",
            "El vehículo va demasiado despacio.\n"
          ]
        }
      ]
    },
    {
      "cell_type": "markdown",
      "source": [],
      "metadata": {
        "id": "ylxKeCTP0abr"
      }
    },
    {
      "cell_type": "markdown",
      "metadata": {
        "id": "c236d2a0"
      },
      "source": [
        "```pseudocode\n",
        "INICIO\n",
        "\n",
        "    // Definir constantes\n",
        "    PRECIO_LATA = 12900\n",
        "    COSTO_TRANSPORTE = 65000\n",
        "    UMBRAL_DESCUENTO = 10\n",
        "    PORCENTAJE_DESCUENTO = 0.10\n",
        "    UMBRAL_TRANSPORTE_GRATIS = 30\n",
        "\n",
        "    // Solicitar al usuario el número de latas a comprar\n",
        "    LEER numero_latas\n",
        "\n",
        "    // Validar entrada\n",
        "    SI numero_latas < 0 ENTONCES\n",
        "        ESCRIBIR \"Error: El número de latas no puede ser negativo.\"\n",
        "    SINO\n",
        "\n",
        "        // Calcular costo base de las latas\n",
        "        costo_latas = numero_latas * PRECIO_LATA\n",
        "\n",
        "        // Aplicar descuento si aplica\n",
        "        SI numero_latas > UMBRAL_DESCUENTO ENTONCES\n",
        "            costo_latas = costo_latas * (1 - PORCENTAJE_DESCUENTO)\n",
        "        FIN SI\n",
        "\n",
        "        // Determinar costo de transporte\n",
        "        SI numero_latas > UMBRAL_TRANSPORTE_GRATIS ENTONCES\n",
        "            costo_transporte_final = 0  // Transporte gratis\n",
        "        SINO\n",
        "            costo_transporte_final = COSTO_TRANSPORTE\n",
        "        FIN SI\n",
        "\n",
        "        // Calcular costo total\n",
        "        costo_total = costo_latas + costo_transporte_final\n",
        "\n",
        "        // Mostrar costo total\n",
        "        ESCRIBIR \"El costo total es: \", costo_total, \" COP\"\n",
        "\n",
        "    FIN SI\n",
        "\n",
        "FIN"
      ]
    },
    {
      "cell_type": "code",
      "source": [],
      "metadata": {
        "id": "h1k101-91Dv7"
      },
      "execution_count": null,
      "outputs": []
    },
    {
      "cell_type": "code",
      "metadata": {
        "colab": {
          "base_uri": "https://localhost:8080/"
        },
        "id": "e8a63855",
        "outputId": "eb0dd3ee-d8bf-4eb5-8360-af0a4bf4f07e"
      },
      "source": [
        "# Definir constantes\n",
        "price_per_can = 12900  # COP\n",
        "transport_cost = 65000  # COP\n",
        "discount_threshold_1 = 10\n",
        "discount_percentage = 0.10\n",
        "transport_threshold = 30\n",
        "\n",
        "# Obtenga la entrada del usuario para el número de latas\n",
        "try:\n",
        "    num_cans_str = input(\"Por favor, ingrese el número de botes de grava que desea comprar: \")\n",
        "    num_cans = int(num_cans_str)\n",
        "\n",
        "    if num_cans < 0:\n",
        "        print(\"Error:El número de latas no puede ser negativo.\")\n",
        "    else:\n",
        "        # Calcula el costo de las latas\n",
        "        cost_cans = num_cans * price_per_can\n",
        "\n",
        "        # Aplicar descuento si corresponde\n",
        "        if num_cans > discount_threshold_1:\n",
        "            cost_cans *= (1 - discount_percentage)\n",
        "\n",
        "        # Determinar el costo del transporte\n",
        "        if num_cans > transport_threshold:\n",
        "            final_transport_cost = 0  # Free transport\n",
        "        else:\n",
        "            final_transport_cost = transport_cost\n",
        "\n",
        "        # Calcule el costo total\n",
        "        total_cost = cost_cans + final_transport_cost\n",
        "\n",
        "        # Mostrar el costo total\n",
        "        print(f\"The total cost is: {total_cost:.2f} COP\")\n",
        "\n",
        "except ValueError:\n",
        "    print(\"Error: Entrada inválida. Por favor, introduzca un número entero para la cantidad de latas.\")"
      ],
      "execution_count": 38,
      "outputs": [
        {
          "output_type": "stream",
          "name": "stdout",
          "text": [
            "Por favor, ingrese el número de botes de grava que desea comprar: \n",
            "Error: Entrada inválida. Por favor, introduzca un número entero para la cantidad de latas.\n"
          ]
        }
      ]
    }
  ]
}